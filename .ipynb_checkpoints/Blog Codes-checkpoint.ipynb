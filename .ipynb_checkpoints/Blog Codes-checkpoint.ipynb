{
 "cells": [
  {
   "cell_type": "code",
   "execution_count": 1,
   "id": "db45a767",
   "metadata": {},
   "outputs": [],
   "source": [
    "import numpy as np\n",
    "import yfinance as yf \n",
    "import pandas as pd\n",
    "import matplotlib.pyplot as plt"
   ]
  },
  {
   "cell_type": "code",
   "execution_count": 2,
   "id": "fd809b05",
   "metadata": {},
   "outputs": [],
   "source": [
    "data_nse = pd.read_excel('NSE.xlsx')\n",
    "data_nifty50 = pd.read_excel('NIFTY_50.xlsx')\n",
    "data_bnifty = pd.read_excel('NIFTY_BANK.xlsx')"
   ]
  },
  {
   "cell_type": "code",
   "execution_count": 2,
   "id": "ac469984-40b7-4584-9191-4196bb29eebe",
   "metadata": {},
   "outputs": [
    {
     "name": "stdout",
     "output_type": "stream",
     "text": [
      "[*********************100%***********************]  1 of 1 completed\n",
      "[*********************100%***********************]  1 of 1 completed\n",
      "[*********************100%***********************]  1 of 1 completed\n",
      "[*********************100%***********************]  1 of 1 completed\n",
      "[*********************100%***********************]  1 of 1 completed\n",
      "[*********************100%***********************]  1 of 1 completed\n",
      "[*********************100%***********************]  1 of 1 completed\n",
      "[*********************100%***********************]  1 of 1 completed\n",
      "[*********************100%***********************]  1 of 1 completed\n"
     ]
    }
   ],
   "source": [
    "stocks = ['ANDHRAPAP', 'CGPOWER', 'COALINDIA', 'GESHIP', 'ITC', 'ROHLTD', 'KKCL', 'KTKBANK', 'WSTCSTPAPR']\n",
    "\n",
    "for i in stocks:\n",
    "    data = yf.download(i+'.NS')\n",
    "    data.to_csv(f'data/{i}.csv')"
   ]
  },
  {
   "cell_type": "code",
   "execution_count": null,
   "id": "9e6a078e-29ee-4753-8ca1-395cad6ba9f3",
   "metadata": {},
   "outputs": [],
   "source": []
  }
 ],
 "metadata": {
  "kernelspec": {
   "display_name": "Python 3 (ipykernel)",
   "language": "python",
   "name": "python3"
  },
  "language_info": {
   "codemirror_mode": {
    "name": "ipython",
    "version": 3
   },
   "file_extension": ".py",
   "mimetype": "text/x-python",
   "name": "python",
   "nbconvert_exporter": "python",
   "pygments_lexer": "ipython3",
   "version": "3.9.13"
  },
  "vscode": {
   "interpreter": {
    "hash": "c88fdfdc9e32a51df7a40b04fc01908ef4421ac82d24cf6670e14695e7996cf4"
   }
  }
 },
 "nbformat": 4,
 "nbformat_minor": 5
}
